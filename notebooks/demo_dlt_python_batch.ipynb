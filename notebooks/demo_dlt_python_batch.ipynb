{
  "nbformat": 4,
  "nbformat_minor": 0,
  "metadata": {
    "colab": {
      "provenance": [],
      "authorship_tag": "ABX9TyMPRfoj1kqBjWmFezhqV1HC"
    },
    "kernelspec": {
      "name": "python3",
      "display_name": "Python 3"
    },
    "language_info": {
      "name": "python"
    }
  },
  "cells": [
    {
      "cell_type": "markdown",
      "source": [
        "Instalando e importando as bibliotecas necessárias - Incluindo a DLT - Delta Live Table"
      ],
      "metadata": {
        "id": "EOnn21UR-nvS"
      }
    },
    {
      "cell_type": "code",
      "execution_count": null,
      "metadata": {
        "id": "T0_0zy_V-buT"
      },
      "outputs": [],
      "source": [
        "pip install dlt"
      ]
    },
    {
      "cell_type": "code",
      "source": [
        "from pyspark.sql.functions import *\n",
        "from pyspark.sql.types import *\n",
        "#principal biblioteca da delta live table\n",
        "import dlt"
      ],
      "metadata": {
        "id": "B32uaTFC-rAC"
      },
      "execution_count": null,
      "outputs": []
    },
    {
      "cell_type": "markdown",
      "source": [
        "creation device and subscription folders"
      ],
      "metadata": {
        "id": "ZuFDkjug-uMt"
      }
    },
    {
      "cell_type": "code",
      "source": [
        "# criando um novo diretorio\n",
        "dbutils.fs.mkdirs(\"dbfs:/FileStore/tables/pipeline/landing/device\")\n",
        "dbutils.fs.mkdirs(\"dbfs:/FileStore/tables/pipeline/landing/subscription\")"
      ],
      "metadata": {
        "id": "TkLot-p0-s2w"
      },
      "execution_count": null,
      "outputs": []
    },
    {
      "cell_type": "markdown",
      "source": [
        "from data lake to bronze tables {device & subscription}"
      ],
      "metadata": {
        "id": "7hVypGKZ-ww0"
      }
    },
    {
      "cell_type": "code",
      "source": [
        "# set location where raw data lands\n",
        "# data lake landing zone\n",
        "json_device_path = \"dbfs:/FileStore/tables/pipeline/landing/device/*.json\"\n",
        "json_subscription_path = \"dbfs:/FileStore/tables/pipeline/landing/subscription/*.json\"\n",
        "\n",
        "#criou uma dlt table e passou propriedades dela - device\n",
        "@dlt.table(\n",
        "    comment=\"raw json data from data lake.\",\n",
        "    table_properties{\"quality\": \"bronze\"}\n",
        ")\n",
        "def bronze_device():\n",
        "    return (spark.read.format(\"json\").load(json_device_path))\n",
        "\n",
        "# subscription\n",
        "@dlt.table(\n",
        "    comment=\"raw json data from data lake.\",\n",
        "    table_properties{\"quality\": \"bronze\"}\n",
        ")\n",
        "def bronze_subscription():\n",
        "    return (spark.read.format(\"json\").load(json_subscription_path))"
      ],
      "metadata": {
        "id": "OAACb93T-zD4"
      },
      "execution_count": null,
      "outputs": []
    },
    {
      "cell_type": "markdown",
      "source": [
        "from bronze to silver {transformation & enrichment}"
      ],
      "metadata": {
        "id": "T4DKW1e7-013"
      }
    },
    {
      "cell_type": "code",
      "source": [
        "@dlt.view(\n",
        "    comment=\"enrich and sanitize data\"\n",
        ")\n",
        "def device_enriched():\n",
        "    return(\n",
        "        dl.read(\"bronze_device\").select(\n",
        "        col(\"user_id\").alias(\"device_user_id\"),\n",
        "        col(\"model\").alias(\"device_model\"),\n",
        "        col(\"manufacturer\").alias(\"device_manufacturer\"),\n",
        "        col(\"platform\").alias(\"device_platform\"),\n",
        "        lit(current_timestamp()).alias(\"device_event_time\"),\n",
        "        col(\"dt_current_timestamp\").alias(\"device_dt_current_timestamp\")\n",
        "        )\n",
        "    )\n",
        "    \n",
        "@dlt.view(\n",
        "    comment=\"enrich and sanitize data\"\n",
        ")\n",
        "def subscription_enriched():\n",
        "    return(\n",
        "        dl.read(\"bronze_subscription\").select(\n",
        "        col(\"user_id\").alias(\"subscription_user_id\"),\n",
        "        col(\"plan\").alias(\"subscription_plan\"),\n",
        "        col(\"status\").alias(\"subscription_status\"),\n",
        "        col(\"payment_method\").alias(\"subscription_payment_method\"),\n",
        "        col(\"subscription_term\").alias(\"subscription_subscription_term\"),\n",
        "        col(\"payment_term\").alias(\"subscription_payment_term\"),\n",
        "        lit(current_timestamp()).alias(\"subscription_event_time\"),\n",
        "        col(\"dt_current_timestamp\").alias(\"subscription_dt_current_timestamp\")\n",
        "        )\n",
        "    )"
      ],
      "metadata": {
        "id": "8m_SirQb-2gn"
      },
      "execution_count": null,
      "outputs": []
    },
    {
      "cell_type": "markdown",
      "source": [
        "silver table {subscriptions} = domain table design"
      ],
      "metadata": {
        "id": "me7P6jtD-4Bk"
      }
    },
    {
      "cell_type": "code",
      "source": [
        "# create silver table\n",
        "# join between device & subscription\n",
        "@dlt.table(\n",
        "    comment=\"domain subscriptions silver table.\",\n",
        "    table_properties={\"quality\": \"silver\"}\n",
        ")\n",
        "def silver_subscriptions():\n",
        "    \n",
        "    # get data from previous step\n",
        "    # access the views\n",
        "    bronze_device = dlt.read(\"device_enriched\")\n",
        "    bronze_subscription = dlt.read(\"subscription_enriched\")\n",
        "    \n",
        "    # join datasets\n",
        "    # apply inner join\n",
        "    join_device_subscription = bronze_device.join(bronze_subscription, bronze_device.device_user_id == bronze_subscription.subscription_user_id, how='inner')\n",
        "    \n",
        "    # result of the join\n",
        "    # store final result into silver\n",
        "    result_df = join_device_subscription.select(\n",
        "        col(\"device_user_id\").alias(\"user_id\"),\n",
        "        col(\"device_model\").alias(\"model\"),\n",
        "        col(\"device_manufacturer\").alias(\"manufacturer\"),\n",
        "        col(\"device_platform\").alias(\"platform\"),\n",
        "        col(\"subscription_plan\").alias(\"plan\"),\n",
        "        col(\"subscription_status\").alias(\"status\"),\n",
        "        col(\"subscription_payment_method\").alias(\"payment\"),\n",
        "        col(\"subscription_subscription_term\").alias(\"commitment\"),\n",
        "        col(\"subscription_payment_term\").alias(\"term\"),\n",
        "        col(\"subscription_event_time\").alias(\"event_time\"),\n",
        "        col(\"subscription_dt_current_timestamp\").alias(\"dt_current_timestamp\"),\n",
        "        )\n",
        "    \n",
        "    return result_df"
      ],
      "metadata": {
        "id": "vsGDdTni-52j"
      },
      "execution_count": null,
      "outputs": []
    },
    {
      "cell_type": "markdown",
      "source": [
        "gold tables = plans, grouped_plans"
      ],
      "metadata": {
        "id": "gV_r6fZs-_Qu"
      }
    },
    {
      "cell_type": "code",
      "source": [
        "# 1\n",
        "@dlt.table(\n",
        "    comment=\"gold table for analytics team (full).\",\n",
        "    table_properties={\"quality\": \"gold\"}\n",
        ")\n",
        "def gold_plans():\n",
        "    \n",
        "    # get silver table\n",
        "    get_silver_subscriptions = spark.table(\"LIVE.silver_subscriptions\")\n",
        "    \n",
        "    # select columns\n",
        "    # build table\n",
        "    plans_gold_tb = get_silver_subscriptions.select(\n",
        "        col(\"user_id\"),\n",
        "        col(\"plan\"),\n",
        "        col(\"model\"),\n",
        "        col(\"dt_current_timestamp\"),\n",
        "    )\n",
        "    \n",
        "    return plans_gold_tb\n",
        "\n",
        "# \n",
        "@dlt.table(\n",
        "    comment=\"gold table for analytics team (full).\",\n",
        "    table_properties={\"quality\": \"gold\"}\n",
        ")\n",
        "def gold_plans_agg():\n",
        "    \n",
        "    # get silver table\n",
        "    get_silver_subscriptions = spark.table(\"LIVE.silver_subscriptions\")\n",
        "    \n",
        "    # agg plans data\n",
        "    plans_gold_tb_agg = get_silver_subscriptions_groupBy(\"plan\").count()\n",
        "    \n",
        "    return plans_gold_tb_agg"
      ],
      "metadata": {
        "id": "XaSUz6tG_Aku"
      },
      "execution_count": null,
      "outputs": []
    },
    {
      "cell_type": "markdown",
      "source": [
        "delta tables location and consulting"
      ],
      "metadata": {
        "id": "qKdQQcvn_Cvs"
      }
    },
    {
      "cell_type": "code",
      "source": [
        "display(dbutils.fs.ls(\"dbfs:/pipelines/<pipeline_id>/tables\"))"
      ],
      "metadata": {
        "id": "P2AuOkdn_D3X"
      },
      "execution_count": null,
      "outputs": []
    },
    {
      "cell_type": "code",
      "source": [
        "%%sql\n",
        "SELECT *\n",
        "FROM delta.`dbfs:/pipelines/<pipeline_id>/tables/<table_name>`"
      ],
      "metadata": {
        "id": "3bYfMPqT_FW4"
      },
      "execution_count": null,
      "outputs": []
    }
  ]
}