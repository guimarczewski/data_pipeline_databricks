{
  "nbformat": 4,
  "nbformat_minor": 0,
  "metadata": {
    "colab": {
      "provenance": [],
      "authorship_tag": "ABX9TyPjvi9odkS1XUtGvNJnhr3v"
    },
    "kernelspec": {
      "name": "python3",
      "display_name": "Python 3"
    },
    "language_info": {
      "name": "python"
    }
  },
  "cells": [
    {
      "cell_type": "markdown",
      "source": [
        "streaming bronze tables from data lake {source}"
      ],
      "metadata": {
        "id": "nwjatSmh_Pzm"
      }
    },
    {
      "cell_type": "code",
      "execution_count": null,
      "metadata": {
        "id": "MyKkZzNd_LX8"
      },
      "outputs": [],
      "source": [
        "%%sql\n",
        "CREATE STREAMING LIVE TABLE stream_bronze_device\n",
        "COMMENT \"streaming from data lake\"\n",
        "TBLPROPERTIES (\"Quality\" = \"Bronze\")\n",
        "AS SELECT * FROM cloud_files(\"dbfs:/FileStore/tables/pipeline/landing/device/\", \"json\", map(\"cloudFiles.inferColumnTypes\", \"true\"));\n",
        "\n",
        "CREATE STREAMING LIVE TABLE stream_bronze_subscription\n",
        "COMMENT \"streaming from data lake\"\n",
        "TBLPROPERTIES (\"Quality\" = \"Bronze\")\n",
        "AS SELECT * FROM cloud_files(\"dbfs:/FileStore/tables/pipeline/landing/subscription/\", \"json\", map(\"cloudFiles.inferColumnTypes\", \"true\"));"
      ]
    },
    {
      "cell_type": "markdown",
      "source": [
        "create silver table {domain table}"
      ],
      "metadata": {
        "id": "gjfoHMKq_ST0"
      }
    },
    {
      "cell_type": "code",
      "source": [
        "%%sql\n",
        "CREATE STREAMING LIVE TABLE stream_silver_subscriptions(\n",
        "  CONSTRAINT valid_user_id EXPECT (user_id IS NOT NULL) ON VIOLATION DROP ROW\n",
        ")\n",
        "PARTITIONED BY (user_id)\n",
        "COMMENT \"subscription domain table, cleansed data from device and subscription bronze tables.\"\n",
        "TBLPROPERTIES (\"Quality\" = \"Silver\")\n",
        "AS\n",
        "SELECT \n",
        "  d.user_id,\n",
        "  d.model,\n",
        "  d.manufacturer,\n",
        "  d.platform,\n",
        "  s.plan,\n",
        "  s.status\n",
        "FROM STREAM(LIVE.stream_bronze_device) AS d\n",
        "INNER JOIN LIVE.stream_bronze_subscription AS s\n",
        "ON d.user_id = s.user_id"
      ],
      "metadata": {
        "id": "A29y_A7O_TwS"
      },
      "execution_count": null,
      "outputs": []
    }
  ]
}